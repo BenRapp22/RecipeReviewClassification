{
 "cells": [
  {
   "cell_type": "markdown",
   "metadata": {},
   "source": [
    "## Preprocessing and EDA"
   ]
  },
  {
   "cell_type": "code",
   "execution_count": 1,
   "metadata": {},
   "outputs": [],
   "source": [
    "import pandas as pd\n",
    "import numpy as np \n",
    "import matplotlib.pyplot as plt \n",
    "import seaborn as sns \n",
    "%matplotlib inline \n",
    "\n",
    "interactions = pd.read_csv('./interactions/RAW_interactions.csv')"
   ]
  },
  {
   "cell_type": "code",
   "execution_count": 3,
   "metadata": {},
   "outputs": [
    {
     "name": "stdout",
     "output_type": "stream",
     "text": [
      "<class 'pandas.core.frame.DataFrame'>\n",
      "RangeIndex: 1132367 entries, 0 to 1132366\n",
      "Data columns (total 5 columns):\n",
      " #   Column     Non-Null Count    Dtype \n",
      "---  ------     --------------    ----- \n",
      " 0   user_id    1132367 non-null  int64 \n",
      " 1   recipe_id  1132367 non-null  int64 \n",
      " 2   date       1132367 non-null  object\n",
      " 3   rating     1132367 non-null  int64 \n",
      " 4   review     1132198 non-null  object\n",
      "dtypes: int64(3), object(2)\n",
      "memory usage: 43.2+ MB\n"
     ]
    }
   ],
   "source": [
    "interactions.info()"
   ]
  },
  {
   "cell_type": "code",
   "execution_count": 4,
   "metadata": {},
   "outputs": [],
   "source": [
    "interactions = interactions.dropna(axis=0, inplace=False)"
   ]
  },
  {
   "cell_type": "markdown",
   "metadata": {},
   "source": [
    "#### User ID"
   ]
  },
  {
   "cell_type": "code",
   "execution_count": 5,
   "metadata": {},
   "outputs": [
    {
     "name": "stdout",
     "output_type": "stream",
     "text": [
      "Unique Users:  226419\n",
      "Total Reviews:  1132198\n"
     ]
    }
   ],
   "source": [
    "# There are a bunch of reviews, but the ratio of users to reviews is a about 1:5 \n",
    "\n",
    "unique_users = interactions['user_id'].nunique()\n",
    "total_reviews = len(interactions['user_id'])\n",
    "\n",
    "\n",
    "print(\"Unique Users: \", unique_users)\n",
    "print(\"Total Reviews: \", total_reviews)"
   ]
  },
  {
   "cell_type": "code",
   "execution_count": 6,
   "metadata": {},
   "outputs": [
    {
     "name": "stdout",
     "output_type": "stream",
     "text": [
      "Maximum Reivews per User:  7671\n",
      "Minimum Reivews per User:  1\n",
      "Mean Reviews per User:  5.000454908819489\n",
      "Median Reviews per User:  1.0\n",
      "Standard Deviation of Reviews per User:  49.67953565579594\n",
      "Number of users with less than 20 reviews:  213933\n",
      "As a percentage:  0.9448544512607158\n"
     ]
    },
    {
     "data": {
      "text/plain": [
       "Text(0, 0.5, 'Number of Users')"
      ]
     },
     "execution_count": 6,
     "metadata": {},
     "output_type": "execute_result"
    },
    {
     "data": {
      "image/png": "[encoded data removed]",
      "text/plain": [
       "<Figure size 432x288 with 1 Axes>"
      ]
     },
     "metadata": {
      "needs_background": "light"
     },
     "output_type": "display_data"
    }
   ],
   "source": [
    "# Let's see what the distribution of reviews is like wrt the user that wrote it: \n",
    "\n",
    "reviews_by_user = interactions.groupby('user_id').agg('count').sort_values(by='review', ascending=False)\n",
    "max_user_reviews = reviews_by_user['review'].max()\n",
    "min_user_reviews = reviews_by_user['review'].min()\n",
    "mean_user_reviews = reviews_by_user['review'].mean()\n",
    "median_user_reviews = reviews_by_user['review'].median()\n",
    "stdev_user_reviews = reviews_by_user['review'].std()\n",
    "\n",
    "print(\"Maximum Reivews per User: \", max_user_reviews)\n",
    "print(\"Minimum Reivews per User: \", min_user_reviews)\n",
    "print(\"Mean Reviews per User: \", mean_user_reviews)\n",
    "print(\"Median Reviews per User: \", median_user_reviews)\n",
    "print(\"Standard Deviation of Reviews per User: \", stdev_user_reviews)\n",
    "\n",
    "# Histogram for the majority of users\n",
    "most_of_the_reviews = reviews_by_user['review'].where(reviews_by_user['review'] < 10).dropna()\n",
    "print(\"Number of users with less than 20 reviews: \", len(most_of_the_reviews))\n",
    "print(\"As a percentage: \", len(most_of_the_reviews)/unique_users)\n",
    "ax = most_of_the_reviews.hist()\n",
    "ax.set_xlabel(\"Number of Reviews\")\n",
    "ax.set_ylabel(\"Number of Users\")"
   ]
  },
  {
   "cell_type": "markdown",
   "metadata": {},
   "source": [
    "### Recipes "
   ]
  },
  {
   "cell_type": "code",
   "execution_count": 7,
   "metadata": {},
   "outputs": [
    {
     "name": "stdout",
     "output_type": "stream",
     "text": [
      "Total number of unique recipes:  231630\n",
      "Total number of reviews:  1132198\n"
     ]
    }
   ],
   "source": [
    "# Let's see how many unique recipes there are in the dataset \n",
    "\n",
    "num_recipes = interactions['recipe_id'].nunique()\n",
    "num_reviews = len(interactions)\n",
    "\n",
    "print(\"Total number of unique recipes: \", num_recipes)\n",
    "print(\"Total number of reviews: \", num_reviews)"
   ]
  },
  {
   "cell_type": "code",
   "execution_count": 8,
   "metadata": {},
   "outputs": [
    {
     "name": "stdout",
     "output_type": "stream",
     "text": [
      "Maximum Reivews per Recipe:  1609\n",
      "Minimum Reivews per Recipe:  1\n",
      "Mean Reviews per Recipe:  4.887959245348185\n",
      "Median Reviews per Recipe:  2.0\n",
      "Standard Deviation of Reviews per Recipe:  17.527729929844032\n"
     ]
    }
   ],
   "source": [
    "# Looking at the statistics of unique recipes: \n",
    "reviews_by_recipe = interactions.groupby('recipe_id').agg('count')['review'].sort_values(ascending=False)\n",
    "max_recipe_reviews = reviews_by_recipe.max()\n",
    "min_recipe_reviews = reviews_by_recipe.min()\n",
    "mean_recipe_reviews = reviews_by_recipe.mean()\n",
    "median_recipe_reviews = reviews_by_recipe.median()\n",
    "stdev_recipe_reviews = reviews_by_recipe.std()\n",
    "\n",
    "print(\"Maximum Reivews per Recipe: \", max_recipe_reviews)\n",
    "print(\"Minimum Reivews per Recipe: \", min_recipe_reviews)\n",
    "print(\"Mean Reviews per Recipe: \", mean_recipe_reviews)\n",
    "print(\"Median Reviews per Recipe: \", median_recipe_reviews)\n",
    "print(\"Standard Deviation of Reviews per Recipe: \", stdev_recipe_reviews)"
   ]
  },
  {
   "cell_type": "code",
   "execution_count": 9,
   "metadata": {},
   "outputs": [
    {
     "name": "stdout",
     "output_type": "stream",
     "text": [
      "Number of recipes with less than 20 reviews:  223649\n",
      "As a percentage:  0.9655441868497172\n"
     ]
    },
    {
     "data": {
      "text/plain": [
       "Text(0, 0.5, 'Number of Recipes')"
      ]
     },
     "execution_count": 9,
     "metadata": {},
     "output_type": "execute_result"
    },
    {
     "data": {
      "image/png": "[encoded data removed]",
      "text/plain": [
       "<Figure size 432x288 with 1 Axes>"
      ]
     },
     "metadata": {
      "needs_background": "light"
     },
     "output_type": "display_data"
    }
   ],
   "source": [
    "# Distribution of Unique Recipes \n",
    "\n",
    "most_recipes = reviews_by_recipe.where(reviews_by_recipe < 20).dropna()\n",
    "print(\"Number of recipes with less than 20 reviews: \", len(most_recipes))\n",
    "print(\"As a percentage: \", len(most_recipes)/num_recipes)\n",
    "recipe_ax = most_recipes.hist()\n",
    "recipe_ax.set_xlabel(\"Number of Reviews\")\n",
    "recipe_ax.set_ylabel(\"Number of Recipes\")"
   ]
  },
  {
   "cell_type": "markdown",
   "metadata": {},
   "source": [
    "### Date"
   ]
  },
  {
   "cell_type": "code",
   "execution_count": 10,
   "metadata": {},
   "outputs": [
    {
     "name": "stdout",
     "output_type": "stream",
     "text": [
      "First Date:  2000-01-25\n",
      "Last Date:  2018-12-20\n"
     ]
    }
   ],
   "source": [
    "import datetime as dt\n",
    "\n",
    "first_date = min(interactions['date'])\n",
    "last_date = max(interactions['date'])\n",
    "\n",
    "print(\"First Date: \", first_date)\n",
    "print(\"Last Date: \", last_date)"
   ]
  },
  {
   "cell_type": "code",
   "execution_count": 11,
   "metadata": {},
   "outputs": [
    {
     "name": "stdout",
     "output_type": "stream",
     "text": [
      "Total number of dates:  6396\n",
      "Maximum reviews in a single day:  723\n",
      "Minimum reviews in a single day:  1\n",
      "Mean reviews in a single day:  177.01657285803628\n",
      "Median reviews in a single day:  128.0\n",
      "Standard Deviation of Reviews in a Single Day:  142.69130047470105\n"
     ]
    }
   ],
   "source": [
    "# Let's gather statistics on the dates \n",
    "\n",
    "timeseries = interactions.groupby('date').agg('count')['review']\n",
    "\n",
    "print(\"Total number of dates: \", len(timeseries))\n",
    "\n",
    "max_date = timeseries.max()\n",
    "min_date = timeseries.min()\n",
    "mean_date = timeseries.mean()\n",
    "median_date = timeseries.median()\n",
    "stdev_date = timeseries.std()\n",
    "\n",
    "print(\"Maximum reviews in a single day: \", max_date)\n",
    "print(\"Minimum reviews in a single day: \", min_date)\n",
    "print(\"Mean reviews in a single day: \", mean_date)\n",
    "print(\"Median reviews in a single day: \", median_date)\n",
    "print(\"Standard Deviation of Reviews in a Single Day: \", stdev_date)"
   ]
  },
  {
   "cell_type": "code",
   "execution_count": 12,
   "metadata": {},
   "outputs": [],
   "source": [
    "# Build a few time series plots\n",
    "d1 = dt.datetime(2006, 1, 25)\n",
    "d2 = dt.datetime(2012, 1, 25)\n",
    "\n",
    "dates_included = timeseries.reset_index()\n",
    "dates_included['date'] = dates_included['date'].apply(lambda x: pd.to_datetime(x))\n",
    "dates_included\n",
    "\n",
    "first_ts = dates_included.where(dates_included['date'] <d1).dropna()\n",
    "second_ts = dates_included.where((dates_included['date'] > d1) & (dates_included['date'] <d2)).dropna()\n",
    "third_ts = dates_included.where(dates_included['date'] > d2).dropna()"
   ]
  },
  {
   "cell_type": "code",
   "execution_count": 13,
   "metadata": {},
   "outputs": [
    {
     "data": {
      "text/plain": [
       "<AxesSubplot:xlabel='date'>"
      ]
     },
     "execution_count": 13,
     "metadata": {},
     "output_type": "execute_result"
    },
    {
     "data": {
      "image/png": "[encoded data removed]",
      "text/plain": [
       "<Figure size 432x288 with 1 Axes>"
      ]
     },
     "metadata": {
      "needs_background": "light"
     },
     "output_type": "display_data"
    }
   ],
   "source": [
    "first_ts.rename({\"review\":\"Number of Reviews\"},axis=1).plot(x=\"date\")"
   ]
  },
  {
   "cell_type": "code",
   "execution_count": 14,
   "metadata": {},
   "outputs": [
    {
     "data": {
      "text/plain": [
       "<AxesSubplot:xlabel='date'>"
      ]
     },
     "execution_count": 14,
     "metadata": {},
     "output_type": "execute_result"
    },
    {
     "data": {
      "image/png": "[encoded data removed]",
      "text/plain": [
       "<Figure size 432x288 with 1 Axes>"
      ]
     },
     "metadata": {
      "needs_background": "light"
     },
     "output_type": "display_data"
    }
   ],
   "source": [
    "second_ts.rename({\"review\":\"Number of Reviews\"},axis=1).plot(x=\"date\")"
   ]
  },
  {
   "cell_type": "code",
   "execution_count": 15,
   "metadata": {},
   "outputs": [
    {
     "data": {
      "text/plain": [
       "<AxesSubplot:xlabel='date'>"
      ]
     },
     "execution_count": 15,
     "metadata": {},
     "output_type": "execute_result"
    },
    {
     "data": {
      "image/png": "[encoded data removed]",
      "text/plain": [
       "<Figure size 432x288 with 1 Axes>"
      ]
     },
     "metadata": {
      "needs_background": "light"
     },
     "output_type": "display_data"
    }
   ],
   "source": [
    "third_ts.rename({\"review\":\"Number of Reviews\"},axis=1).plot(x=\"date\")"
   ]
  },
  {
   "cell_type": "code",
   "execution_count": 182,
   "metadata": {},
   "outputs": [
    {
     "data": {
      "text/plain": [
       "278.40948138046525"
      ]
     },
     "execution_count": 182,
     "metadata": {},
     "output_type": "execute_result"
    }
   ],
   "source": [
    "# Average length of each review \n",
    "\n",
    "interactions.review.str.len().mean()"
   ]
  },
  {
   "cell_type": "markdown",
   "metadata": {},
   "source": [
    "### Rating "
   ]
  },
  {
   "cell_type": "code",
   "execution_count": 102,
   "metadata": {},
   "outputs": [
    {
     "data": {
      "text/plain": [
       "<AxesSubplot:xlabel='rating'>"
      ]
     },
     "execution_count": 102,
     "metadata": {},
     "output_type": "execute_result"
    },
    {
     "data": {
      "image/png": "[encoded data removed]",
      "text/plain": [
       "<Figure size 432x288 with 1 Axes>"
      ]
     },
     "metadata": {
      "needs_background": "light"
     },
     "output_type": "display_data"
    }
   ],
   "source": [
    "interactions.value_counts('rating').plot.bar(x='rating')"
   ]
  },
  {
   "cell_type": "code",
   "execution_count": null,
   "metadata": {},
   "outputs": [],
   "source": []
  },
  {
   "cell_type": "code",
   "execution_count": 17,
   "metadata": {},
   "outputs": [],
   "source": [
    "# Preprocessing Rating "
   ]
  },
  {
   "cell_type": "code",
   "execution_count": 18,
   "metadata": {},
   "outputs": [
    {
     "data": {
      "text/plain": [
       "<AxesSubplot:xlabel='target'>"
      ]
     },
     "execution_count": 18,
     "metadata": {},
     "output_type": "execute_result"
    },
    {
     "data": {
      "image/png": "[encoded data removed]",
      "text/plain": [
       "<Figure size 432x288 with 1 Axes>"
      ]
     },
     "metadata": {
      "needs_background": "light"
     },
     "output_type": "display_data"
    }
   ],
   "source": [
    "targets = (interactions['rating'] >= 4).astype(int)\n",
    "interactions['target'] = targets\n",
    "interactions.value_counts('target').plot.bar()"
   ]
  },
  {
   "cell_type": "code",
   "execution_count": 19,
   "metadata": {},
   "outputs": [
    {
     "name": "stdout",
     "output_type": "stream",
     "text": [
      "Proportion of negative to positive samples:  0.128179424888547\n"
     ]
    }
   ],
   "source": [
    "# Want to undersample majority class \n",
    "\n",
    "# Target = 0: \n",
    "\n",
    "zeros = interactions.where(interactions[\"target\"] == 0).dropna()\n",
    "ones = interactions.where(interactions[\"target\"] == 1).dropna()\n",
    "print(\"Proportion of negative to positive samples: \", len(zeros)/len(ones))\n",
    "\n",
    "# I'm thinking I should sample 10-15% of the majorit class to keep things balanced and then preprocess. Less work for my GPU.\n"
   ]
  },
  {
   "cell_type": "code",
   "execution_count": 20,
   "metadata": {},
   "outputs": [
    {
     "data": {
      "text/plain": [
       "<AxesSubplot:>"
      ]
     },
     "execution_count": 20,
     "metadata": {},
     "output_type": "execute_result"
    },
    {
     "data": {
      "image/png": "[encoded data removed]",
      "text/plain": [
       "<Figure size 432x288 with 1 Axes>"
      ]
     },
     "metadata": {
      "needs_background": "light"
     },
     "output_type": "display_data"
    }
   ],
   "source": [
    "# Resampling 15% of the dataset for more balanced classes, much easier to work with now. \n",
    "\n",
    "sample = ones.sample(frac=0.15)\n",
    "sample = pd.concat([zeros,sample])\n",
    "sample['target'].value_counts().plot.bar()"
   ]
  },
  {
   "cell_type": "markdown",
   "metadata": {},
   "source": [
    "### Preprocessing Text"
   ]
  },
  {
   "cell_type": "code",
   "execution_count": 21,
   "metadata": {},
   "outputs": [
    {
     "data": {
      "text/html": [
       "<div>\n",
       "<style scoped>\n",
       "    .dataframe tbody tr th:only-of-type {\n",
       "        vertical-align: middle;\n",
       "    }\n",
       "\n",
       "    .dataframe tbody tr th {\n",
       "        vertical-align: top;\n",
       "    }\n",
       "\n",
       "    .dataframe thead th {\n",
       "        text-align: right;\n",
       "    }\n",
       "</style>\n",
       "<table border=\"1\" class=\"dataframe\">\n",
       "  <thead>\n",
       "    <tr style=\"text-align: right;\">\n",
       "      <th></th>\n",
       "      <th>review</th>\n",
       "      <th>target</th>\n",
       "    </tr>\n",
       "  </thead>\n",
       "  <tbody>\n",
       "    <tr>\n",
       "      <th>0</th>\n",
       "      <td>Just an observation, so I will not rate.  I fo...</td>\n",
       "      <td>0.0</td>\n",
       "    </tr>\n",
       "    <tr>\n",
       "      <th>1</th>\n",
       "      <td>This recipe was OVERLY too sweet.  I would sta...</td>\n",
       "      <td>0.0</td>\n",
       "    </tr>\n",
       "    <tr>\n",
       "      <th>2</th>\n",
       "      <td>Made my own buttermilk w/ vinegar and milk.  U...</td>\n",
       "      <td>0.0</td>\n",
       "    </tr>\n",
       "    <tr>\n",
       "      <th>3</th>\n",
       "      <td>This is a very good recipe.  We also want to c...</td>\n",
       "      <td>0.0</td>\n",
       "    </tr>\n",
       "    <tr>\n",
       "      <th>4</th>\n",
       "      <td>The \"cornbread\" on top is bland. I'd us a real...</td>\n",
       "      <td>0.0</td>\n",
       "    </tr>\n",
       "    <tr>\n",
       "      <th>...</th>\n",
       "      <td>...</td>\n",
       "      <td>...</td>\n",
       "    </tr>\n",
       "    <tr>\n",
       "      <th>279165</th>\n",
       "      <td>Thought this was much better the next day for ...</td>\n",
       "      <td>1.0</td>\n",
       "    </tr>\n",
       "    <tr>\n",
       "      <th>279166</th>\n",
       "      <td>Fast, easy, delicious...great!  Following the ...</td>\n",
       "      <td>1.0</td>\n",
       "    </tr>\n",
       "    <tr>\n",
       "      <th>279167</th>\n",
       "      <td>I was surprised at how tasty this was! I just ...</td>\n",
       "      <td>1.0</td>\n",
       "    </tr>\n",
       "    <tr>\n",
       "      <th>279168</th>\n",
       "      <td>very good very simple taste and easy to prepar...</td>\n",
       "      <td>1.0</td>\n",
       "    </tr>\n",
       "    <tr>\n",
       "      <th>279169</th>\n",
       "      <td>This is a really good robust sauce. If you lik...</td>\n",
       "      <td>1.0</td>\n",
       "    </tr>\n",
       "  </tbody>\n",
       "</table>\n",
       "<p>279170 rows × 2 columns</p>\n",
       "</div>"
      ],
      "text/plain": [
       "                                                   review  target\n",
       "0       Just an observation, so I will not rate.  I fo...     0.0\n",
       "1       This recipe was OVERLY too sweet.  I would sta...     0.0\n",
       "2       Made my own buttermilk w/ vinegar and milk.  U...     0.0\n",
       "3       This is a very good recipe.  We also want to c...     0.0\n",
       "4       The \"cornbread\" on top is bland. I'd us a real...     0.0\n",
       "...                                                   ...     ...\n",
       "279165  Thought this was much better the next day for ...     1.0\n",
       "279166  Fast, easy, delicious...great!  Following the ...     1.0\n",
       "279167  I was surprised at how tasty this was! I just ...     1.0\n",
       "279168  very good very simple taste and easy to prepar...     1.0\n",
       "279169  This is a really good robust sauce. If you lik...     1.0\n",
       "\n",
       "[279170 rows x 2 columns]"
      ]
     },
     "execution_count": 21,
     "metadata": {},
     "output_type": "execute_result"
    }
   ],
   "source": [
    "sample = sample.reset_index().drop(['index', 'user_id', 'recipe_id', 'rating', 'date'],axis=1)\n",
    "sample"
   ]
  },
  {
   "cell_type": "code",
   "execution_count": 22,
   "metadata": {},
   "outputs": [
    {
     "data": {
      "text/plain": [
       "'Just an observation  so I will not rate   I followed this procedure with strawberries instead of raspberries   Perhaps this is the reason it did not work well   Sorry to report that the strawberries I did in August were moldy in October   They were stored in my downstairs fridge  which is very cold and infrequently opened   Delicious and fresh tasting prior to that  though   So  keep a sharp eye on them   Personally I would not keep them longer than a month   This recipe also appears as         posted in July       which is when I tried it   I also own the Edna Lewis cookbook in which this appears '"
      ]
     },
     "execution_count": 22,
     "metadata": {},
     "output_type": "execute_result"
    }
   ],
   "source": [
    "sample[\"review\"] = sample[\"review\"].str.replace('[^a-zA-Z]', ' ')\n",
    "sample.review[0]"
   ]
  },
  {
   "cell_type": "code",
   "execution_count": 23,
   "metadata": {},
   "outputs": [],
   "source": [
    "sample[\"review\"] = sample[\"review\"].str.lower()"
   ]
  },
  {
   "cell_type": "code",
   "execution_count": 167,
   "metadata": {},
   "outputs": [
    {
     "data": {
      "text/plain": [
       "'just an observation  so i will not rate   i followed this procedure with strawberries instead of raspberries   perhaps this is the reason it did not work well   sorry to report that the strawberries i did in august were moldy in october   they were stored in my downstairs fridge  which is very cold and infrequently opened   delicious and fresh tasting prior to that  though   so  keep a sharp eye on them   personally i would not keep them longer than a month   this recipe also appears as         posted in july       which is when i tried it   i also own the edna lewis cookbook in which this appears '"
      ]
     },
     "execution_count": 167,
     "metadata": {},
     "output_type": "execute_result"
    }
   ],
   "source": [
    "sample.review[0]"
   ]
  },
  {
   "cell_type": "code",
   "execution_count": 24,
   "metadata": {},
   "outputs": [],
   "source": [
    "from sklearn.model_selection import train_test_split\n",
    "\n",
    "X = sample[\"review\"].values\n",
    "y = sample[\"target\"].values"
   ]
  },
  {
   "cell_type": "markdown",
   "metadata": {},
   "source": [
    "### Training Models "
   ]
  },
  {
   "cell_type": "code",
   "execution_count": 190,
   "metadata": {},
   "outputs": [],
   "source": [
    "# Imports\n",
    "from sklearn.feature_extraction.text import TfidfVectorizer\n",
    "from sklearn.feature_extraction.text import CountVectorizer\n",
    "from sklearn.model_selection import GridSearchCV\n",
    "from sklearn.neighbors import (KNeighborsClassifier, NeighborhoodComponentsAnalysis)\n",
    "from sklearn.metrics import accuracy_score, f1_score\n",
    "from sklearn.linear_model import LogisticRegression\n",
    "from sklearn.model_selection import GridSearchCV\n",
    "from sklearn.dummy import DummyClassifier\n",
    "from sklearn.metrics import plot_roc_curve\n",
    "from sklearn.metrics import confusion_matrix\n",
    "from sklearn.metrics import precision_score\n",
    "from sklearn.metrics import recall_score\n",
    "from sklearn.metrics import f1_score"
   ]
  },
  {
   "cell_type": "code",
   "execution_count": 170,
   "metadata": {},
   "outputs": [],
   "source": [
    "word_count_example = CountVectorizer(stop_words=\"english\").fit(X)\n"
   ]
  },
  {
   "cell_type": "code",
   "execution_count": 171,
   "metadata": {},
   "outputs": [
    {
     "data": {
      "text/plain": [
       "63915"
      ]
     },
     "execution_count": 171,
     "metadata": {},
     "output_type": "execute_result"
    }
   ],
   "source": [
    "len(word_count_example.vocabulary_)"
   ]
  },
  {
   "cell_type": "code",
   "execution_count": 186,
   "metadata": {},
   "outputs": [],
   "source": [
    "tfidf_example = TfidfVectorizer(ngram_range=(1,2),stop_words = 'english').fit(X)"
   ]
  },
  {
   "cell_type": "code",
   "execution_count": 187,
   "metadata": {},
   "outputs": [
    {
     "data": {
      "text/plain": [
       "1777780"
      ]
     },
     "execution_count": 187,
     "metadata": {},
     "output_type": "execute_result"
    }
   ],
   "source": [
    "len(tfidf_example.vocabulary_)"
   ]
  },
  {
   "cell_type": "code",
   "execution_count": 198,
   "metadata": {},
   "outputs": [],
   "source": [
    "# Create function to train model \n",
    "\n",
    "def fit_reviews(X, y, transform, model, display, roc):\n",
    "\n",
    "    X_trans = transform.fit_transform(X)\n",
    "    Xtr, Xte, ytr, yte = train_test_split(X_trans, y, test_size=0.1, random_state=42)\n",
    "    classifier = model.fit(Xtr, ytr)\n",
    "    acc = classifier.score(Xte, yte)\n",
    "    predictions = classifier.predict(Xte)\n",
    "#     precision = precision_score(y, predictions)\n",
    "#     recall = recall_score(y, predictions)\n",
    "#     f1 = recall_score(y, predictions)\n",
    "    print(\"Accuracy: \", acc)\n",
    "#     print(\"Precision: \", precision)\n",
    "#     print(\"Recall: \", recall)\n",
    "#     print(\"F1-Score: \", f1)\n",
    "    \n",
    "#     conf_matrix = confusion_matrix(y, predictions)\n",
    "#     print(\"Confusion Matrix: \", conf_matrix)\n",
    "    \n",
    "    \n",
    "    \n",
    "    \n",
    "    # Find out about the words that the model was messing around with \n",
    "    if(display == 1):\n",
    "        w = transform.get_feature_names()\n",
    "        coefficients = classifier.coef_.tolist()[0]\n",
    "        word_weights = pd.DataFrame({'Word' : w, 'Coefficient' : coefficients})\n",
    "        word_weights = word_weights.sort_values(['Coefficient', 'Word'], ascending=[0, 1])\n",
    "        print('')\n",
    "        print('10 most positive words:')\n",
    "        print(word_weights.head(10))\n",
    "        print('')\n",
    "        print('10 most negative words:')        \n",
    "        print(word_weights.tail(10))\n",
    "    \n",
    "    # Display ROC curve to evaluate model\n",
    "    if(roc==1):\n",
    "        plot_roc_curve(model, Xte, yte)\n",
    "        plt.show()\n",
    "    \n",
    "    return acc\n"
   ]
  },
  {
   "cell_type": "code",
   "execution_count": 164,
   "metadata": {},
   "outputs": [
    {
     "name": "stdout",
     "output_type": "stream",
     "text": [
      "Model accuracy:  0.5042447254361142\n"
     ]
    },
    {
     "name": "stderr",
     "output_type": "stream",
     "text": [
      "C:\\Users\\Benra\\anaconda3\\lib\\site-packages\\sklearn\\dummy.py:131: FutureWarning: The default value of strategy will change from stratified to prior in 0.24.\n",
      "  warnings.warn(\"The default value of strategy will change from \"\n"
     ]
    },
    {
     "data": {
      "image/png": "[encoded data removed]",
      "text/plain": [
       "<Figure size 432x288 with 1 Axes>"
      ]
     },
     "metadata": {
      "needs_background": "light"
     },
     "output_type": "display_data"
    },
    {
     "data": {
      "text/plain": [
       "0.5042447254361142"
      ]
     },
     "execution_count": 164,
     "metadata": {},
     "output_type": "execute_result"
    }
   ],
   "source": [
    "# Baseline results using dummy classifier with raw TFIDF\n",
    "\n",
    "dummy = DummyClassifier()\n",
    "tf = TfidfVectorizer()\n",
    "fit_reviews(X, y, tf, dummy, 0, 1)"
   ]
  },
  {
   "cell_type": "markdown",
   "metadata": {},
   "source": [
    "### k-NN Model "
   ]
  },
  {
   "cell_type": "code",
   "execution_count": 135,
   "metadata": {},
   "outputs": [],
   "source": [
    "Xtr_tf = TfidfVectorizer().fit_transform(X)\n",
    "Xtr_knn, Xte_knn, ytr_knn, yte_knn = train_test_split(Xtr_tf, y, test_size=0.1, random_state=42)"
   ]
  },
  {
   "cell_type": "code",
   "execution_count": 50,
   "metadata": {},
   "outputs": [
    {
     "data": {
      "text/plain": [
       "<251253x64221 sparse matrix of type '<class 'numpy.float64'>'\n",
       "\twith 9425400 stored elements in Compressed Sparse Row format>"
      ]
     },
     "execution_count": 50,
     "metadata": {},
     "output_type": "execute_result"
    }
   ],
   "source": [
    "Xtr_knn"
   ]
  },
  {
   "cell_type": "code",
   "execution_count": 51,
   "metadata": {},
   "outputs": [
    {
     "name": "stdout",
     "output_type": "stream",
     "text": [
      "251253\n",
      "27917\n"
     ]
    }
   ],
   "source": [
    "print(Xtr_knn.shape[0])\n",
    "print(Xte_knn.shape[0])"
   ]
  },
  {
   "cell_type": "code",
   "execution_count": 80,
   "metadata": {},
   "outputs": [
    {
     "data": {
      "text/plain": [
       "KNeighborsClassifier(n_neighbors=7)"
      ]
     },
     "execution_count": 80,
     "metadata": {},
     "output_type": "execute_result"
    }
   ],
   "source": [
    "# Using Count Vectorizer \n",
    "\n",
    "# k_range = range(1,10)\n",
    "# my_param_grid = dict(n_neighbors = k_range)\n",
    "\n",
    "knn =  KNeighborsClassifier(n_neighbors=7)\n",
    "knn.fit(Xtr_knn, ytr_knn)\n",
    "\n",
    "\n",
    "# my_grid = GridSearchCV(knn, my_param_grid, cv=5, scoring='accuracy')\n",
    "\n",
    "# my_grid.fit(Xtr_knn, ytr_knn)\n",
    "\n",
    "# print(my_grid.best_score_)\n",
    "# print(my_grid.best_params_)"
   ]
  },
  {
   "cell_type": "code",
   "execution_count": 81,
   "metadata": {},
   "outputs": [
    {
     "data": {
      "text/plain": [
       "0.4771644517677401"
      ]
     },
     "execution_count": 81,
     "metadata": {},
     "output_type": "execute_result"
    }
   ],
   "source": [
    "knn.score(Xte_knn, yte_knn)"
   ]
  },
  {
   "cell_type": "markdown",
   "metadata": {},
   "source": [
    "### Testing out different arrangements using SVD"
   ]
  },
  {
   "cell_type": "code",
   "execution_count": 99,
   "metadata": {},
   "outputs": [
    {
     "data": {
      "text/plain": [
       "KNeighborsClassifier()"
      ]
     },
     "execution_count": 99,
     "metadata": {},
     "output_type": "execute_result"
    }
   ],
   "source": [
    "# Truncated SVD\n",
    "\n",
    "from sklearn.decomposition import TruncatedSVD\n",
    "\n",
    "knn = KNeighborsClassifier(n_neighbors=5)\n",
    "svd = TruncatedSVD(n_components = 10, random_state=42)\n",
    "reduced = svd.fit_transform(Xtr_tf)\n",
    "\n",
    "X_svd_tr, X_svd_te, y_svd_tr, y_svd_te = train_test_split(reduced, y, test_size=0.1, random_state=42)\n",
    "\n",
    "knn.fit(X_svd_tr, y_svd_tr)"
   ]
  },
  {
   "cell_type": "code",
   "execution_count": 100,
   "metadata": {},
   "outputs": [
    {
     "data": {
      "text/plain": [
       "0.7044811405236953"
      ]
     },
     "execution_count": 100,
     "metadata": {},
     "output_type": "execute_result"
    }
   ],
   "source": [
    "knn.score(X_svd_te, y_svd_te)"
   ]
  },
  {
   "cell_type": "code",
   "execution_count": 126,
   "metadata": {},
   "outputs": [],
   "source": [
    "# Highest so far: 0.733"
   ]
  },
  {
   "cell_type": "code",
   "execution_count": 127,
   "metadata": {},
   "outputs": [],
   "source": [
    "results = []\n",
    "\n",
    "for i in range(525, 535):\n",
    "    knn = KNeighborsClassifier(n_neighbors=i)\n",
    "    svd = TruncatedSVD(n_components=4, random_state=42)\n",
    "    reduced = svd.fit_transform(Xtr_tf)\n",
    "    X_svd_tr, X_svd_te, y_svd_tr, y_svd_te = train_test_split(reduced, y, test_size=0.1, random_state=42)\n",
    "    knn.fit(X_svd_tr, y_svd_tr)\n",
    "    results.append((i, knn.score(X_svd_te, y_svd_te)))\n",
    "    "
   ]
  },
  {
   "cell_type": "code",
   "execution_count": 128,
   "metadata": {},
   "outputs": [
    {
     "data": {
      "text/plain": [
       "[(20, 0.7212451194612601),\n",
       " (21, 0.722140631156643),\n",
       " (22, 0.72239137443135),\n",
       " (23, 0.7231077837876563),\n",
       " (24, 0.7229286814485797),\n",
       " (25, 0.7247913457749758),\n",
       " (26, 0.7241465773543002),\n",
       " (27, 0.7256152165347279),\n",
       " (28, 0.7245047820324534),\n",
       " (29, 0.7256868574703585)]"
      ]
     },
     "execution_count": 128,
     "metadata": {},
     "output_type": "execute_result"
    }
   ],
   "source": [
    "results"
   ]
  },
  {
   "cell_type": "code",
   "execution_count": 107,
   "metadata": {},
   "outputs": [],
   "source": [
    "results2 = []\n",
    "\n",
    "for j in range(2, 10):\n",
    "    knn = KNeighborsClassifier(n_neighbors=531)\n",
    "    svd = TruncatedSVD(n_components=j, random_state=42)\n",
    "    reduced = svd.fit_transform(Xtr_tf)\n",
    "    X_svd_tr, X_svd_te, y_svd_tr, y_svd_te = train_test_split(reduced, y, test_size=0.1, random_state=42)\n",
    "    knn.fit(X_svd_tr, y_svd_tr)\n",
    "    results2.append((j, knn.score(X_svd_te, y_svd_te)))"
   ]
  },
  {
   "cell_type": "code",
   "execution_count": 111,
   "metadata": {},
   "outputs": [
    {
     "data": {
      "text/plain": [
       "[(2, 0.5235161371207508),\n",
       " (3, 0.6722427194899165),\n",
       " (4, 0.703872192570835),\n",
       " (5, 0.7079557259017802),\n",
       " (6, 0.7150481785292115),\n",
       " (7, 0.713364616541892),\n",
       " (8, 0.7111795680051581),\n",
       " (9, 0.7140093849625676),\n",
       " (9, 0.7176630726797292)]"
      ]
     },
     "execution_count": 111,
     "metadata": {},
     "output_type": "execute_result"
    }
   ],
   "source": [
    "results2"
   ]
  },
  {
   "cell_type": "markdown",
   "metadata": {},
   "source": [
    "### Model Training (ORGANIZED)"
   ]
  },
  {
   "cell_type": "markdown",
   "metadata": {},
   "source": [
    "1) Logistic Regression: \n",
    "    (a) Dummy w/ Count Vectorizer \n",
    "    (b) LR w/ Count Vectorizer \n",
    "        (i) 5 possible values for Reg Coeff\n",
    "    (c) LR w/ TFIDF \n",
    "        (i) 5 possible values for Reg Coeff\n",
    "    (d) LR w/ TFIDF + 2-gram\n",
    "        (i) 10 possible values for Reg Coeff\n",
    "2) KNN \n",
    "    (a) Use Truncated SVD for all examples (best score w/out was only 50% accurate)\n",
    "        (i) Use 5-fold CV to determine best value of K (ranging from 525 to 535)\n",
    "        (ii)"
   ]
  },
  {
   "cell_type": "code",
   "execution_count": 140,
   "metadata": {},
   "outputs": [],
   "source": [
    "# 1) Logistic Regression: \n",
    "\n",
    "lr_result_array = []"
   ]
  },
  {
   "cell_type": "code",
   "execution_count": 141,
   "metadata": {},
   "outputs": [
    {
     "name": "stdout",
     "output_type": "stream",
     "text": [
      "Model accuracy:  0.5067521581831859\n"
     ]
    },
    {
     "data": {
      "text/plain": [
       "[('Baseline', 0.5067521581831859)]"
      ]
     },
     "execution_count": 141,
     "metadata": {},
     "output_type": "execute_result"
    }
   ],
   "source": [
    "# (a) Baseline using dummy classifier \n",
    "lr_result_array.append((\"Baseline\",fit_reviews(X, y, CountVectorizer(stop_words=\"english\"), DummyClassifier(), 0, 1)))\n",
    "lr_result_array"
   ]
  },
  {
   "cell_type": "code",
   "execution_count": 142,
   "metadata": {},
   "outputs": [],
   "source": [
    "c = CountVectorizer(stop_words = \"english\")\n",
    "tfidf_raw = TfidfVectorizer()\n",
    "tfidf_2 = TfidfVectorizer(ngram_range=(1,2),stop_words = 'english')"
   ]
  },
  {
   "cell_type": "code",
   "execution_count": 143,
   "metadata": {
    "scrolled": true
   },
   "outputs": [
    {
     "name": "stderr",
     "output_type": "stream",
     "text": [
      "C:\\Users\\Benra\\anaconda3\\lib\\site-packages\\sklearn\\linear_model\\_sag.py:329: ConvergenceWarning: The max_iter was reached which means the coef_ did not converge\n",
      "  warnings.warn(\"The max_iter was reached which means \"\n"
     ]
    },
    {
     "name": "stdout",
     "output_type": "stream",
     "text": [
      "Model accuracy:  0.7871547802414299\n",
      "\n",
      "10 most positive words:\n",
      "        Word  Coefficient\n",
      "       thanx     1.170112\n",
      "         zwt     1.159931\n",
      "  refreshing     1.093144\n",
      "      kitten     0.956614\n",
      "   excellent     0.914011\n",
      " outstanding     0.826017\n",
      "    roxygirl     0.788022\n",
      "        prmr     0.779888\n",
      "      thanks     0.752781\n",
      "   wonderful     0.750280\n",
      "\n",
      "10 most negative words:\n",
      "          Word  Coefficient\n",
      "          rate    -1.135179\n",
      "      terrible    -1.187652\n",
      " disappointing    -1.236949\n",
      "         worst    -1.274733\n",
      "     potential    -1.304465\n",
      "        sounds    -1.351456\n",
      "            ok    -1.358212\n",
      "         bland    -1.448266\n",
      "          okay    -1.544718\n",
      "         sorry    -1.735363\n"
     ]
    },
    {
     "name": "stderr",
     "output_type": "stream",
     "text": [
      "C:\\Users\\Benra\\anaconda3\\lib\\site-packages\\sklearn\\linear_model\\_sag.py:329: ConvergenceWarning: The max_iter was reached which means the coef_ did not converge\n",
      "  warnings.warn(\"The max_iter was reached which means \"\n"
     ]
    },
    {
     "name": "stdout",
     "output_type": "stream",
     "text": [
      "Model accuracy:  0.7871906007092453\n",
      "\n",
      "10 most positive words:\n",
      "        Word  Coefficient\n",
      "       thanx     1.192284\n",
      "         zwt     1.168459\n",
      "  refreshing     1.109495\n",
      "      kitten     0.979455\n",
      "   excellent     0.915495\n",
      " outstanding     0.833580\n",
      "    roxygirl     0.811994\n",
      "        prmr     0.799117\n",
      "      tagged     0.758180\n",
      "      thanks     0.752060\n",
      "\n",
      "10 most negative words:\n",
      "          Word  Coefficient\n",
      "        lacked    -1.150120\n",
      "      terrible    -1.215232\n",
      " disappointing    -1.272106\n",
      "         worst    -1.311496\n",
      "     potential    -1.337216\n",
      "        sounds    -1.363508\n",
      "            ok    -1.364947\n",
      "         bland    -1.453787\n",
      "          okay    -1.557968\n",
      "         sorry    -1.745845\n"
     ]
    },
    {
     "name": "stderr",
     "output_type": "stream",
     "text": [
      "C:\\Users\\Benra\\anaconda3\\lib\\site-packages\\sklearn\\linear_model\\_sag.py:329: ConvergenceWarning: The max_iter was reached which means the coef_ did not converge\n",
      "  warnings.warn(\"The max_iter was reached which means \"\n"
     ]
    },
    {
     "name": "stdout",
     "output_type": "stream",
     "text": [
      "Model accuracy:  0.7871906007092453\n",
      "\n",
      "10 most positive words:\n",
      "        Word  Coefficient\n",
      "       thanx     1.199692\n",
      "         zwt     1.171294\n",
      "  refreshing     1.115173\n",
      "      kitten     0.987875\n",
      "   excellent     0.915978\n",
      " outstanding     0.836105\n",
      "    roxygirl     0.821605\n",
      "        prmr     0.804737\n",
      "      tagged     0.763502\n",
      "   skeptical     0.752574\n",
      "\n",
      "10 most negative words:\n",
      "          Word  Coefficient\n",
      "        lacked    -1.159788\n",
      "      terrible    -1.225414\n",
      " disappointing    -1.283864\n",
      "         worst    -1.324768\n",
      "     potential    -1.348082\n",
      "            ok    -1.367222\n",
      "        sounds    -1.367601\n",
      "         bland    -1.455696\n",
      "          okay    -1.562508\n",
      "         sorry    -1.749424\n"
     ]
    },
    {
     "name": "stderr",
     "output_type": "stream",
     "text": [
      "C:\\Users\\Benra\\anaconda3\\lib\\site-packages\\sklearn\\linear_model\\_sag.py:329: ConvergenceWarning: The max_iter was reached which means the coef_ did not converge\n",
      "  warnings.warn(\"The max_iter was reached which means \"\n"
     ]
    },
    {
     "name": "stdout",
     "output_type": "stream",
     "text": [
      "Model accuracy:  0.7871906007092453\n",
      "\n",
      "10 most positive words:\n",
      "        Word  Coefficient\n",
      "       thanx     1.203274\n",
      "         zwt     1.172839\n",
      "  refreshing     1.118142\n",
      "      kitten     0.991980\n",
      "   excellent     0.916202\n",
      " outstanding     0.837384\n",
      "    roxygirl     0.823944\n",
      "        prmr     0.808180\n",
      "      tagged     0.767413\n",
      "        tour     0.755161\n",
      "\n",
      "10 most negative words:\n",
      "          Word  Coefficient\n",
      "        lacked    -1.164309\n",
      "      terrible    -1.230195\n",
      " disappointing    -1.289837\n",
      "         worst    -1.331340\n",
      "     potential    -1.353658\n",
      "            ok    -1.368391\n",
      "        sounds    -1.369675\n",
      "         bland    -1.456640\n",
      "          okay    -1.564833\n",
      "         sorry    -1.751251\n"
     ]
    },
    {
     "name": "stderr",
     "output_type": "stream",
     "text": [
      "C:\\Users\\Benra\\anaconda3\\lib\\site-packages\\sklearn\\linear_model\\_sag.py:329: ConvergenceWarning: The max_iter was reached which means the coef_ did not converge\n",
      "  warnings.warn(\"The max_iter was reached which means \"\n"
     ]
    },
    {
     "name": "stdout",
     "output_type": "stream",
     "text": [
      "Model accuracy:  0.7871547802414299\n",
      "\n",
      "10 most positive words:\n",
      "        Word  Coefficient\n",
      "       thanx     1.210556\n",
      "         zwt     1.175352\n",
      "  refreshing     1.123107\n",
      "      kitten     0.999867\n",
      "   excellent     0.916660\n",
      " outstanding     0.839811\n",
      "    roxygirl     0.831783\n",
      "        prmr     0.814800\n",
      "      tagged     0.773313\n",
      "        tour     0.760422\n",
      "\n",
      "10 most negative words:\n",
      "          Word  Coefficient\n",
      "        lacked    -1.172526\n",
      "      terrible    -1.239197\n",
      " disappointing    -1.299796\n",
      "         worst    -1.343626\n",
      "     potential    -1.363996\n",
      "            ok    -1.370454\n",
      "        sounds    -1.373482\n",
      "         bland    -1.458260\n",
      "          okay    -1.568944\n",
      "         sorry    -1.754555\n"
     ]
    },
    {
     "name": "stderr",
     "output_type": "stream",
     "text": [
      "C:\\Users\\Benra\\anaconda3\\lib\\site-packages\\sklearn\\linear_model\\_sag.py:329: ConvergenceWarning: The max_iter was reached which means the coef_ did not converge\n",
      "  warnings.warn(\"The max_iter was reached which means \"\n"
     ]
    },
    {
     "name": "stdout",
     "output_type": "stream",
     "text": [
      "Model accuracy:  0.7871189597736147\n",
      "\n",
      "10 most positive words:\n",
      "        Word  Coefficient\n",
      "       thanx     1.212927\n",
      "         zwt     1.176456\n",
      "  refreshing     1.125026\n",
      "      kitten     1.002486\n",
      "   excellent     0.916819\n",
      " outstanding     0.840548\n",
      "    roxygirl     0.833815\n",
      "        prmr     0.816053\n",
      "      tagged     0.774275\n",
      "        tour     0.762064\n",
      "\n",
      "10 most negative words:\n",
      "          Word  Coefficient\n",
      "        lacked    -1.175304\n",
      "      terrible    -1.241712\n",
      " disappointing    -1.303614\n",
      "         worst    -1.346832\n",
      "     potential    -1.367499\n",
      "            ok    -1.371082\n",
      "        sounds    -1.374692\n",
      "         bland    -1.458933\n",
      "          okay    -1.570243\n",
      "         sorry    -1.755576\n",
      "Model accuracy:  0.7871906007092453\n",
      "\n",
      "10 most positive words:\n",
      "        Word  Coefficient\n",
      "       thanx     1.213575\n",
      "         zwt     1.176738\n",
      "  refreshing     1.125473\n",
      "      kitten     1.002189\n",
      "   excellent     0.916832\n",
      " outstanding     0.840806\n",
      "    roxygirl     0.835513\n",
      "        prmr     0.817350\n",
      "      tagged     0.774477\n",
      "        tour     0.765485\n",
      "\n",
      "10 most negative words:\n",
      "          Word  Coefficient\n",
      "        lacked    -1.176392\n",
      "      terrible    -1.242814\n",
      " disappointing    -1.307115\n",
      "         worst    -1.349074\n",
      "     potential    -1.369272\n",
      "            ok    -1.371395\n",
      "        sounds    -1.375127\n",
      "         bland    -1.459144\n",
      "          okay    -1.570776\n",
      "         sorry    -1.756056\n"
     ]
    },
    {
     "name": "stderr",
     "output_type": "stream",
     "text": [
      "C:\\Users\\Benra\\anaconda3\\lib\\site-packages\\sklearn\\linear_model\\_sag.py:329: ConvergenceWarning: The max_iter was reached which means the coef_ did not converge\n",
      "  warnings.warn(\"The max_iter was reached which means \"\n"
     ]
    }
   ],
   "source": [
    "# (b) LR / Count Vectorizer \n",
    "\n",
    "for i in [0.25, 0.5, 0.75, 1, 2.5, 5, 7.5]:\n",
    "    lr_result_array.append((\"LR/CountVec, C=\" + str(i),fit_reviews(X, y, c, \n",
    "        LogisticRegression(penalty='l2', C = i, max_iter=200, solver=\"saga\"), 1, 0)))\n"
   ]
  },
  {
   "cell_type": "code",
   "execution_count": 144,
   "metadata": {},
   "outputs": [
    {
     "data": {
      "text/plain": [
       "[('Baseline', 0.5067521581831859),\n",
       " ('LR/CountVec, C=0.25', 0.7871547802414299),\n",
       " ('LR/CountVec, C=0.5', 0.7871906007092453),\n",
       " ('LR/CountVec, C=0.75', 0.7871906007092453),\n",
       " ('LR/CountVec, C=1', 0.7871906007092453),\n",
       " ('LR/CountVec, C=2.5', 0.7871547802414299),\n",
       " ('LR/CountVec, C=5', 0.7871189597736147),\n",
       " ('LR/CountVec, C=7.5', 0.7871906007092453)]"
      ]
     },
     "execution_count": 144,
     "metadata": {},
     "output_type": "execute_result"
    }
   ],
   "source": [
    "lr_result_array"
   ]
  },
  {
   "cell_type": "code",
   "execution_count": 145,
   "metadata": {},
   "outputs": [
    {
     "name": "stdout",
     "output_type": "stream",
     "text": [
      "Model accuracy:  0.7956084106458431\n",
      "\n",
      "10 most positive words:\n",
      "      Word  Coefficient\n",
      "    thanks     6.075194\n",
      "     great     4.971585\n",
      "       zwt     4.201185\n",
      "   perfect     4.153957\n",
      " wonderful     4.148627\n",
      "      used     3.932853\n",
      "     loved     3.721845\n",
      " delicious     3.555082\n",
      "       tag     3.483547\n",
      "   enjoyed     3.448807\n",
      "\n",
      "10 most negative words:\n",
      "          Word  Coefficient\n",
      " unfortunately    -3.355545\n",
      "        sounds    -3.466545\n",
      "  disappointed    -3.563018\n",
      "          rate    -3.586902\n",
      "        rating    -3.777693\n",
      "           not    -4.622957\n",
      "          okay    -5.273854\n",
      "            ok    -5.585701\n",
      "         bland    -6.499130\n",
      "         sorry    -7.501841\n",
      "Model accuracy:  0.7958233334527349\n",
      "\n",
      "10 most positive words:\n",
      "      Word  Coefficient\n",
      "    thanks     6.122478\n",
      "     great     5.105821\n",
      "       zwt     4.840949\n",
      "   perfect     4.300301\n",
      " wonderful     4.274400\n",
      "      used     3.938517\n",
      "       tag     3.918812\n",
      "     thanx     3.866380\n",
      "     loved     3.817535\n",
      " delicious     3.646088\n",
      "\n",
      "10 most negative words:\n",
      "          Word  Coefficient\n",
      "     potential    -3.980662\n",
      "  disappointed    -4.001926\n",
      " unfortunately    -4.041968\n",
      "          rate    -4.166940\n",
      "        rating    -4.448290\n",
      "           not    -4.638829\n",
      "          okay    -6.134401\n",
      "            ok    -6.196841\n",
      "         bland    -7.140325\n",
      "         sorry    -8.637598\n",
      "Model accuracy:  0.7956800515814737\n",
      "\n",
      "10 most positive words:\n",
      "      Word  Coefficient\n",
      "    thanks     6.109944\n",
      "     great     5.162651\n",
      "       zwt     5.125834\n",
      "   perfect     4.351029\n",
      " wonderful     4.318569\n",
      "     thanx     4.219940\n",
      "       tag     4.109270\n",
      "      used     3.927524\n",
      "     loved     3.861580\n",
      " delicious     3.686664\n",
      "\n",
      "10 most negative words:\n",
      "          Word  Coefficient\n",
      "         worst    -4.346484\n",
      " unfortunately    -4.366832\n",
      "          rate    -4.419292\n",
      "           not    -4.637996\n",
      "     potential    -4.654421\n",
      "        rating    -4.755756\n",
      "            ok    -6.463773\n",
      "          okay    -6.542266\n",
      "         bland    -7.410415\n",
      "         sorry    -9.184966\n",
      "Model accuracy:  0.7938890281907082\n",
      "\n",
      "10 most positive words:\n",
      "      Word  Coefficient\n",
      "    thanks     6.089589\n",
      "       zwt     5.289829\n",
      "     great     5.196624\n",
      "     thanx     4.430532\n",
      "   perfect     4.376908\n",
      " wonderful     4.341361\n",
      "       tag     4.216473\n",
      "   worried     3.921315\n",
      "      used     3.917264\n",
      "    kitten     3.894013\n",
      "\n",
      "10 most negative words:\n",
      "          Word  Coefficient\n",
      "          rate    -4.561568\n",
      "           not    -4.636814\n",
      " disappointing    -4.758075\n",
      "         worst    -4.831812\n",
      "        rating    -4.936536\n",
      "     potential    -5.119088\n",
      "            ok    -6.617249\n",
      "          okay    -6.785698\n",
      "         bland    -7.561477\n",
      "         sorry    -9.516221\n",
      "Model accuracy:  0.7914174159114518\n",
      "\n",
      "10 most positive words:\n",
      "       Word  Coefficient\n",
      "     thanks     5.996848\n",
      "        zwt     5.649430\n",
      "      great     5.289304\n",
      "      thanx     4.892018\n",
      "     kitten     4.589430\n",
      "    worried     4.464062\n",
      "        tag     4.435767\n",
      "    perfect     4.430878\n",
      "  wonderful     4.391802\n",
      " bullwinkle     4.388996\n",
      "\n",
      "10 most negative words:\n",
      "          Word  Coefficient\n",
      "      inedible    -5.108585\n",
      "     tasteless    -5.283591\n",
      "        rating    -5.348503\n",
      " disappointing    -6.322511\n",
      "     potential    -6.407163\n",
      "         worst    -6.437276\n",
      "            ok    -6.956389\n",
      "          okay    -7.337869\n",
      "         bland    -7.877455\n",
      "         sorry   -10.296425\n",
      "Model accuracy:  0.7891965469069026\n",
      "\n",
      "10 most positive words:\n",
      "       Word  Coefficient\n",
      "     thanks     5.925960\n",
      "        zwt     5.811269\n",
      "      great     5.353701\n",
      "      thanx     5.083233\n",
      " bullwinkle     5.044593\n",
      "     kitten     4.913006\n",
      "   roxygirl     4.726367\n",
      "    worried     4.700667\n",
      "     hating     4.605287\n",
      "   adoptees     4.550227\n",
      "\n",
      "10 most negative words:\n",
      "          Word  Coefficient\n",
      "       newphew    -6.180648\n",
      "      inedible    -6.468059\n",
      "            ok    -7.122164\n",
      "     potential    -7.122879\n",
      "        assign    -7.303945\n",
      " disappointing    -7.369709\n",
      "          okay    -7.591870\n",
      "         worst    -7.592105\n",
      "         bland    -8.017167\n",
      "         sorry   -10.701745\n",
      "Model accuracy:  0.7870831393057993\n",
      "\n",
      "10 most positive words:\n",
      "       Word  Coefficient\n",
      "     thanks     5.890209\n",
      "        zwt     5.877062\n",
      "   adoptees     5.519450\n",
      "      great     5.390335\n",
      "      trade     5.347585\n",
      " bullwinkle     5.346243\n",
      "     hating     5.201732\n",
      "      thanx     5.158437\n",
      "       pets     5.074050\n",
      "     kitten     5.036281\n",
      "\n",
      "10 most negative words:\n",
      "          Word  Coefficient\n",
      "       newphew    -7.139081\n",
      "            ok    -7.203994\n",
      "      inedible    -7.307229\n",
      "     potential    -7.445294\n",
      "          okay    -7.699990\n",
      " disappointing    -7.887352\n",
      "         bland    -8.080902\n",
      "         worst    -8.197847\n",
      "        assign    -8.857504\n",
      "         sorry   -10.907242\n"
     ]
    }
   ],
   "source": [
    "# (c) LR / TFIDF\n",
    "\n",
    "for i in [0.25, 0.5, 0.75, 1, 2.5, 5, 7.5]:\n",
    "    lr_result_array.append((\"LR/Raw TFIDF, C=\" + str(i),fit_reviews(X, y, tfidf_raw, \n",
    "        LogisticRegression(penalty='l2', C = i, max_iter=200, solver=\"saga\"), 1, 0)))\n"
   ]
  },
  {
   "cell_type": "code",
   "execution_count": 146,
   "metadata": {},
   "outputs": [
    {
     "data": {
      "text/plain": [
       "[('Baseline', 0.5067521581831859),\n",
       " ('LR/CountVec, C=0.25', 0.7871547802414299),\n",
       " ('LR/CountVec, C=0.5', 0.7871906007092453),\n",
       " ('LR/CountVec, C=0.75', 0.7871906007092453),\n",
       " ('LR/CountVec, C=1', 0.7871906007092453),\n",
       " ('LR/CountVec, C=2.5', 0.7871547802414299),\n",
       " ('LR/CountVec, C=5', 0.7871189597736147),\n",
       " ('LR/CountVec, C=7.5', 0.7871906007092453),\n",
       " ('LR/Raw TFIDF, C=0.25', 0.7956084106458431),\n",
       " ('LR/Raw TFIDF, C=0.5', 0.7958233334527349),\n",
       " ('LR/Raw TFIDF, C=0.75', 0.7956800515814737),\n",
       " ('LR/Raw TFIDF, C=1', 0.7938890281907082),\n",
       " ('LR/Raw TFIDF, C=2.5', 0.7914174159114518),\n",
       " ('LR/Raw TFIDF, C=5', 0.7891965469069026),\n",
       " ('LR/Raw TFIDF, C=7.5', 0.7870831393057993)]"
      ]
     },
     "execution_count": 146,
     "metadata": {},
     "output_type": "execute_result"
    }
   ],
   "source": [
    "lr_result_array"
   ]
  },
  {
   "cell_type": "code",
   "execution_count": 147,
   "metadata": {},
   "outputs": [
    {
     "name": "stdout",
     "output_type": "stream",
     "text": [
      "Model accuracy:  0.7903786223448078\n",
      "\n",
      "10 most positive words:\n",
      "      Word  Coefficient\n",
      "    thanks    10.702150\n",
      "      used     6.738868\n",
      "     loved     6.185797\n",
      " wonderful     6.075360\n",
      "     great     5.955122\n",
      "       zwt     5.894818\n",
      "   perfect     5.871654\n",
      "   enjoyed     5.086987\n",
      "       tag     4.888179\n",
      "    keeper     4.741025\n",
      "\n",
      "10 most negative words:\n",
      "         Word  Coefficient\n",
      "       rating    -4.268728\n",
      "          bad    -4.298641\n",
      "    just didn    -4.371431\n",
      "          dry    -4.439617\n",
      " disappointed    -4.551380\n",
      "        maybe    -5.074756\n",
      "         okay    -6.774354\n",
      "           ok    -7.790009\n",
      "        bland    -8.967377\n",
      "        sorry    -9.337500\n",
      "Model accuracy:  0.7922054662033886\n",
      "\n",
      "10 most positive words:\n",
      "      Word  Coefficient\n",
      "    thanks    11.370284\n",
      "       zwt     7.332604\n",
      "      used     6.866961\n",
      "     loved     6.528825\n",
      " wonderful     6.385942\n",
      "   perfect     6.182642\n",
      "       tag     5.834863\n",
      "     great     5.801669\n",
      "   enjoyed     5.575583\n",
      "    keeper     5.199599\n",
      "\n",
      "10 most negative words:\n",
      "         Word  Coefficient\n",
      "          bad    -4.926205\n",
      "        maybe    -5.416722\n",
      "         rate    -5.488528\n",
      "       rating    -5.525800\n",
      " disappointed    -5.642163\n",
      "    just didn    -5.656689\n",
      "         okay    -8.389625\n",
      "           ok    -9.100025\n",
      "        bland   -10.654882\n",
      "        sorry   -11.297522\n",
      "Model accuracy:  0.7933875416412939\n",
      "\n",
      "10 most positive words:\n",
      "      Word  Coefficient\n",
      "    thanks    11.610706\n",
      "       zwt     8.072340\n",
      "      used     6.875632\n",
      "     loved     6.664146\n",
      " wonderful     6.446178\n",
      "       tag     6.331770\n",
      "   perfect     6.228093\n",
      "   enjoyed     5.809263\n",
      "     great     5.552668\n",
      "        dh     5.390639\n",
      "\n",
      "10 most negative words:\n",
      "         Word  Coefficient\n",
      "     did like    -5.649272\n",
      "    didn work    -5.744603\n",
      "       rating    -6.214678\n",
      "         rate    -6.229007\n",
      " disappointed    -6.267142\n",
      "    just didn    -6.413473\n",
      "         okay    -9.273736\n",
      "           ok    -9.727811\n",
      "        bland   -11.572534\n",
      "        sorry   -12.393928\n",
      "Model accuracy:  0.7943546942723072\n",
      "\n",
      "10 most positive words:\n",
      "      Word  Coefficient\n",
      "    thanks    11.731071\n",
      "       zwt     8.539100\n",
      "      used     6.871876\n",
      "     loved     6.734179\n",
      "       tag     6.659097\n",
      " wonderful     6.445289\n",
      "   perfect     6.213582\n",
      "   enjoyed     5.967228\n",
      "        dh     5.595294\n",
      "     thanx     5.473410\n",
      "\n",
      "10 most negative words:\n",
      "         Word  Coefficient\n",
      "     did like    -6.161174\n",
      "    didn work    -6.464997\n",
      "       rating    -6.667063\n",
      " disappointed    -6.700941\n",
      "         rate    -6.727237\n",
      "    just didn    -6.931019\n",
      "         okay    -9.855820\n",
      "           ok   -10.105861\n",
      "        bland   -12.188815\n",
      "        sorry   -13.137462\n",
      "Model accuracy:  0.7928860550918795\n",
      "\n",
      "10 most positive words:\n",
      "       Word  Coefficient\n",
      "     thanks    11.967415\n",
      "        zwt     9.708888\n",
      "        tag     7.616518\n",
      "       used     6.929326\n",
      "      loved     6.794412\n",
      "      thanx     6.752765\n",
      "    enjoyed     6.514895\n",
      "     kitten     6.423405\n",
      " refreshing     6.257136\n",
      "  wonderful     6.238694\n",
      "\n",
      "10 most negative words:\n",
      "         Word  Coefficient\n",
      "     did like    -7.704774\n",
      "       rating    -7.936122\n",
      " disappointed    -8.064914\n",
      "         rate    -8.154857\n",
      "    just didn    -8.379952\n",
      "    didn work    -8.940011\n",
      "           ok   -11.039950\n",
      "         okay   -11.464723\n",
      "        bland   -14.025531\n",
      "        sorry   -15.371258\n",
      "Model accuracy:  0.7884801375505964\n",
      "\n",
      "10 most positive words:\n",
      "       Word  Coefficient\n",
      "     thanks    12.125862\n",
      "        zwt    10.319251\n",
      "        tag     8.382252\n",
      "     kitten     7.725308\n",
      "      thanx     7.553980\n",
      "       used     7.185882\n",
      " refreshing     7.111047\n",
      "    enjoyed     7.064082\n",
      "       prmr     7.016694\n",
      "         dh     6.790205\n",
      "\n",
      "10 most negative words:\n",
      "         Word  Coefficient\n",
      "       rating    -8.890952\n",
      "        worst    -8.951508\n",
      " disappointed    -9.171466\n",
      "         rate    -9.196216\n",
      "    just didn    -9.297191\n",
      "    didn work   -10.890642\n",
      "           ok   -11.691152\n",
      "         okay   -12.569994\n",
      "        bland   -15.465614\n",
      "        sorry   -17.116146\n",
      "Model accuracy:  0.7853637568506645\n",
      "\n",
      "10 most positive words:\n",
      "         Word  Coefficient\n",
      "       thanks    12.204275\n",
      "          zwt    10.553184\n",
      "          tag     8.907818\n",
      "       kitten     8.542139\n",
      "        thanx     8.008246\n",
      "         prmr     7.778938\n",
      "   refreshing     7.694255\n",
      "   bullwinkle     7.574369\n",
      " sorry forgot     7.539365\n",
      "      enjoyed     7.469280\n",
      "\n",
      "10 most negative words:\n",
      "          Word  Coefficient\n",
      "     just didn    -9.828861\n",
      "          rate    -9.861798\n",
      " disappointing    -9.881138\n",
      "  disappointed    -9.891636\n",
      "         worst   -10.034127\n",
      "     didn work   -12.047610\n",
      "            ok   -12.130512\n",
      "          okay   -13.245691\n",
      "         bland   -16.432569\n",
      "         sorry   -18.257962\n"
     ]
    }
   ],
   "source": [
    "# (d) LR / TFIDF + 2-grams\n",
    "\n",
    "for i in [0.25, 0.5, 0.75, 1, 2.5, 5, 7.5]:\n",
    "    lr_result_array.append((\"LR/TFIDF+2gram, C=\" + str(i),fit_reviews(X, y, tfidf_2, \n",
    "        LogisticRegression(penalty='l2', C = i, max_iter=200, solver=\"saga\"), 1)))\n",
    "\n"
   ]
  },
  {
   "cell_type": "code",
   "execution_count": 149,
   "metadata": {},
   "outputs": [
    {
     "data": {
      "text/plain": [
       "[('Baseline', 0.5067521581831859),\n",
       " ('LR/CountVec, C=0.25', 0.7871547802414299),\n",
       " ('LR/CountVec, C=0.5', 0.7871906007092453),\n",
       " ('LR/CountVec, C=0.75', 0.7871906007092453),\n",
       " ('LR/CountVec, C=1', 0.7871906007092453),\n",
       " ('LR/CountVec, C=2.5', 0.7871547802414299),\n",
       " ('LR/CountVec, C=5', 0.7871189597736147),\n",
       " ('LR/CountVec, C=7.5', 0.7871906007092453),\n",
       " ('LR/Raw TFIDF, C=0.25', 0.7956084106458431),\n",
       " ('LR/Raw TFIDF, C=0.5', 0.7958233334527349),\n",
       " ('LR/Raw TFIDF, C=0.75', 0.7956800515814737),\n",
       " ('LR/Raw TFIDF, C=1', 0.7938890281907082),\n",
       " ('LR/Raw TFIDF, C=2.5', 0.7914174159114518),\n",
       " ('LR/Raw TFIDF, C=5', 0.7891965469069026),\n",
       " ('LR/Raw TFIDF, C=7.5', 0.7870831393057993),\n",
       " ('LR/TFIDF+2gram, C=0.25', 0.7903786223448078),\n",
       " ('LR/TFIDF+2gram, C=0.5', 0.7922054662033886),\n",
       " ('LR/TFIDF+2gram, C=0.75', 0.7933875416412939),\n",
       " ('LR/TFIDF+2gram, C=1', 0.7943546942723072),\n",
       " ('LR/TFIDF+2gram, C=2.5', 0.7928860550918795),\n",
       " ('LR/TFIDF+2gram, C=5', 0.7884801375505964),\n",
       " ('LR/TFIDF+2gram, C=7.5', 0.7853637568506645)]"
      ]
     },
     "execution_count": 149,
     "metadata": {},
     "output_type": "execute_result"
    }
   ],
   "source": [
    "lr_result_array"
   ]
  },
  {
   "cell_type": "code",
   "execution_count": 148,
   "metadata": {},
   "outputs": [],
   "source": [
    "# (2) KNN \n",
    "knn_result_array = []"
   ]
  },
  {
   "cell_type": "code",
   "execution_count": 151,
   "metadata": {},
   "outputs": [],
   "source": [
    "# (a) Transform w truncated svd, let #componetns be small to get rid of curse of dimensionality for knn \n",
    "\n",
    "for i in range(525, 535):\n",
    "    knn = KNeighborsClassifier(n_neighbors=i)\n",
    "    tsvd = TruncatedSVD(n_components=4, random_state=42)\n",
    "    reduced = tsvd.fit_transform(Xtr_tf)\n",
    "    X_svd_tr, X_svd_te, y_svd_tr, y_svd_te = train_test_split(reduced, y, test_size=0.1, random_state=42)\n",
    "    knn.fit(X_svd_tr, y_svd_tr)\n",
    "    knn_result_array.append((\"KNN w k=\" + str(i), knn.score(X_svd_te, y_svd_te)))"
   ]
  },
  {
   "cell_type": "code",
   "execution_count": 152,
   "metadata": {},
   "outputs": [
    {
     "data": {
      "text/plain": [
       "[('KNN w k=525', 0.733137514775943),\n",
       " ('KNN w k=526', 0.7331733352437583),\n",
       " ('KNN w k=527', 0.733137514775943),\n",
       " ('KNN w k=528', 0.7331016943081277),\n",
       " ('KNN w k=529', 0.7332449761793889),\n",
       " ('KNN w k=530', 0.733137514775943),\n",
       " ('KNN w k=531', 0.7333524375828349),\n",
       " ('KNN w k=532', 0.7331016943081277),\n",
       " ('KNN w k=533', 0.733137514775943),\n",
       " ('KNN w k=534', 0.7332091557115736)]"
      ]
     },
     "execution_count": 152,
     "metadata": {},
     "output_type": "execute_result"
    }
   ],
   "source": [
    "knn_result_array"
   ]
  },
  {
   "cell_type": "markdown",
   "metadata": {},
   "source": [
    "### Using TFIDF/NGRAM + TSVD + REGULARIZED LOGREG"
   ]
  },
  {
   "cell_type": "code",
   "execution_count": 160,
   "metadata": {},
   "outputs": [],
   "source": [
    "# Add TSVD to the original fit_review function, let's try to do the AUC stuff here \n",
    "\n",
    "def fit_reduced_reviews(X, y, transform, model, roc):\n",
    "\n",
    "    X_trans = transform.fit_transform(X)\n",
    "    tsvd = TruncatedSVD(n_components=15, random_state=42)\n",
    "    reduced = tsvd.fit_transform(X_trans)\n",
    "    Xtr, Xte, ytr, yte = train_test_split(reduced, y, test_size=0.1, random_state=42)\n",
    "    \n",
    "    # Implementing grid search cv here \n",
    "    \n",
    "#     coeff = range(1, 5)\n",
    "#     param_grid = dict(C=coeff)\n",
    "    \n",
    "#     grid = GridSearchCV(model, param_grid, cv=5, scoring='accuracy')\n",
    "#     grid.fit(Xtr, ytr)\n",
    "    \n",
    "#     # Testing \n",
    "    \n",
    "#     clf_lr = LogisticRegression(penalty='l2', C=grid.best_params_['C'])\n",
    "#     classifier = clf_lr.fit(Xtr, Ytr)\n",
    "\n",
    "#     acc = classifier.score(Xte, yte)\n",
    "    classifier = model.fit(Xtr, ytr)\n",
    "    acc = classifier.score(Xte, yte)\n",
    "    \n",
    "    print(\"Model accuracy: \", acc)\n",
    "\n",
    "#     targets = classifier.predict(Xte)\n",
    "    \n",
    "    if(roc == 1):\n",
    "        plot_roc_curve(model, Xte, yte)\n",
    "        plt.show()\n",
    "        \n",
    "    return acc\n"
   ]
  },
  {
   "cell_type": "code",
   "execution_count": 163,
   "metadata": {},
   "outputs": [
    {
     "name": "stdout",
     "output_type": "stream",
     "text": [
      "Model accuracy:  0.7291972633162589\n"
     ]
    },
    {
     "data": {
      "image/png": "[encoded data removed]",
      "text/plain": [
       "<Figure size 432x288 with 1 Axes>"
      ]
     },
     "metadata": {
      "needs_background": "light"
     },
     "output_type": "display_data"
    },
    {
     "data": {
      "text/plain": [
       "0.7291972633162589"
      ]
     },
     "execution_count": 163,
     "metadata": {},
     "output_type": "execute_result"
    }
   ],
   "source": [
    "fit_reduced_reviews(X, y, tfidf_2, LogisticRegression(penalty='l2', C = 1, max_iter=200, solver=\"saga\"), 1)"
   ]
  },
  {
   "cell_type": "markdown",
   "metadata": {},
   "source": [
    "### Compiling Results"
   ]
  },
  {
   "cell_type": "code",
   "execution_count": 199,
   "metadata": {
    "scrolled": false
   },
   "outputs": [
    {
     "name": "stderr",
     "output_type": "stream",
     "text": [
      "C:\\Users\\Benra\\anaconda3\\lib\\site-packages\\sklearn\\linear_model\\_sag.py:329: ConvergenceWarning: The max_iter was reached which means the coef_ did not converge\n",
      "  warnings.warn(\"The max_iter was reached which means \"\n"
     ]
    },
    {
     "name": "stdout",
     "output_type": "stream",
     "text": [
      "Accuracy:  0.7873697030483218\n",
      "\n",
      "10 most positive words:\n",
      "              Word  Coefficient\n",
      "56343        thanx     1.203578\n",
      "63906          zwt     1.172913\n",
      "45867   refreshing     1.118149\n",
      "30196       kitten     0.992589\n",
      "18971    excellent     0.916193\n",
      "39461  outstanding     0.837414\n",
      "47735     roxygirl     0.824990\n",
      "43556         prmr     0.808555\n",
      "55228       tagged     0.767970\n",
      "50951    skeptical     0.755204\n",
      "\n",
      "10 most negative words:\n",
      "                Word  Coefficient\n",
      "30734         lacked    -1.164498\n",
      "56123       terrible    -1.229462\n",
      "15752  disappointing    -1.290577\n",
      "62638          worst    -1.330393\n",
      "42884      potential    -1.353584\n",
      "38585             ok    -1.368360\n",
      "52120         sounds    -1.369644\n",
      "5525           bland    -1.456611\n",
      "38590           okay    -1.564767\n",
      "52072          sorry    -1.751281\n"
     ]
    },
    {
     "data": {
      "image/png": "[encoded data removed]",
      "text/plain": [
       "<Figure size 432x288 with 1 Axes>"
      ]
     },
     "metadata": {
      "needs_background": "light"
     },
     "output_type": "display_data"
    },
    {
     "name": "stdout",
     "output_type": "stream",
     "text": [
      "Accuracy:  0.7958591539205502\n",
      "\n",
      "10 most positive words:\n",
      "            Word  Coefficient\n",
      "56544     thanks     6.122487\n",
      "23980      great     5.105739\n",
      "64212        zwt     4.840935\n",
      "41369    perfect     4.300357\n",
      "62698  wonderful     4.274414\n",
      "60069       used     3.938529\n",
      "55449        tag     3.918817\n",
      "56574      thanx     3.866348\n",
      "32659      loved     3.817495\n",
      "14743  delicious     3.646043\n",
      "\n",
      "10 most negative words:\n",
      "                Word  Coefficient\n",
      "43082      potential    -3.980717\n",
      "15816   disappointed    -4.001970\n",
      "59517  unfortunately    -4.041952\n",
      "45232           rate    -4.166943\n",
      "45248         rating    -4.448421\n",
      "38054            not    -4.638829\n",
      "38769           okay    -6.134400\n",
      "38764             ok    -6.196818\n",
      "5576           bland    -7.140322\n",
      "52297          sorry    -8.637573\n"
     ]
    },
    {
     "data": {
      "image/png": "[encoded data removed]",
      "text/plain": [
       "<Figure size 432x288 with 1 Axes>"
      ]
     },
     "metadata": {
      "needs_background": "light"
     },
     "output_type": "display_data"
    },
    {
     "name": "stdout",
     "output_type": "stream",
     "text": [
      "Accuracy:  0.7873697030483218\n",
      "\n",
      "10 most positive words:\n",
      "              Word  Coefficient\n",
      "1560542     thanks     9.244063\n",
      "1664123       used     6.163523\n",
      "660511       great     5.620945\n",
      "893231       loved     5.453101\n",
      "1739059  wonderful     5.191113\n",
      "1112160    perfect     4.937936\n",
      "393032   delicious     4.350577\n",
      "496503     enjoyed     4.173946\n",
      "1557973      thank     4.002871\n",
      "1777374        zwt     3.934112\n",
      "\n",
      "10 most negative words:\n",
      "                 Word  Coefficient\n",
      "1424131        sounds    -3.170589\n",
      "430636   disappointed    -3.171632\n",
      "76751             bad    -3.258642\n",
      "1630736           try    -3.570565\n",
      "463100            dry    -3.580397\n",
      "931788          maybe    -4.241973\n",
      "1042881          okay    -4.694378\n",
      "1041494            ok    -5.808838\n",
      "133123          bland    -6.649880\n",
      "1421343         sorry    -6.798201\n"
     ]
    },
    {
     "data": {
      "image/png": "[encoded data removed]",
      "text/plain": [
       "<Figure size 432x288 with 1 Axes>"
      ]
     },
     "metadata": {
      "needs_background": "light"
     },
     "output_type": "display_data"
    },
    {
     "name": "stdout",
     "output_type": "stream",
     "text": [
      "Model Accuracy:  0.7333524375828349\n"
     ]
    },
    {
     "data": {
      "image/png": "[encoded data removed]",
      "text/plain": [
       "<Figure size 432x288 with 1 Axes>"
      ]
     },
     "metadata": {
      "needs_background": "light"
     },
     "output_type": "display_data"
    }
   ],
   "source": [
    "# Winners Circle \n",
    "\n",
    "# Log Reg w Word Count (C=1)\n",
    "fit_reviews(X, y, c, LogisticRegression(penalty='l2', C = 1, max_iter=200, solver=\"saga\"), 1, 1)\n",
    "\n",
    "# Log Reg w RAW TF (C = 0.5)\n",
    "fit_reviews(X, y, tfidf_raw, LogisticRegression(penalty='l2', C = 0.5, max_iter=200, solver=\"saga\"), 1, 1)\n",
    "\n",
    "# Log Reg w TF/NGRAM (C = 1)\n",
    "fit_reviews(X, y, tfidf_2, LogisticRegression(penalty='l2', C = 0.1, max_iter=200, solver=\"saga\"), 1, 1)\n",
    "\n",
    "# KNN (k = 531)\n",
    "knn = KNeighborsClassifier(n_neighbors=531)\n",
    "tsvd = TruncatedSVD(n_components=4, random_state=42)\n",
    "reduced = tsvd.fit_transform(Xtr_tf)\n",
    "X_svd_tr, X_svd_te, y_svd_tr, y_svd_te = train_test_split(reduced, y, test_size=0.1, random_state=42)\n",
    "knn.fit(X_svd_tr, y_svd_tr)\n",
    "print(\"Model Accuracy: \", knn.score(X_svd_te, y_svd_te))\n",
    "plot_roc_curve(knn, X_svd_te, y_svd_te)\n",
    "plt.show()"
   ]
  },
  {
   "cell_type": "code",
   "execution_count": null,
   "metadata": {},
   "outputs": [],
   "source": []
  }
 ],
 "metadata": {
  "kernelspec": {
   "display_name": "Python 3",
   "language": "python",
   "name": "python3"
  },
  "language_info": {
   "codemirror_mode": {
    "name": "ipython",
    "version": 3
   },
   "file_extension": ".py",
   "mimetype": "text/x-python",
   "name": "python",
   "nbconvert_exporter": "python",
   "pygments_lexer": "ipython3",
   "version": "3.8.5"
  }
 },
 "nbformat": 4,
 "nbformat_minor": 4
}
